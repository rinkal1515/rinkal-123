{
 "cells": [
  {
   "cell_type": "code",
   "execution_count": 1,
   "id": "10966841",
   "metadata": {},
   "outputs": [
    {
     "data": {
      "text/plain": [
       "3"
      ]
     },
     "execution_count": 1,
     "metadata": {},
     "output_type": "execute_result"
    }
   ],
   "source": [
    "1+2"
   ]
  },
  {
   "cell_type": "markdown",
   "id": "d3c1eedb",
   "metadata": {},
   "source": [
    "\"hghfjhyfjhg\""
   ]
  },
  {
   "cell_type": "markdown",
   "id": "260004a4",
   "metadata": {},
   "source": [
    "tfuytrfuyjtf"
   ]
  },
  {
   "cell_type": "code",
   "execution_count": 4,
   "id": "b8c763d2",
   "metadata": {},
   "outputs": [
    {
     "data": {
      "text/plain": [
       "'rinkal'"
      ]
     },
     "execution_count": 4,
     "metadata": {},
     "output_type": "execute_result"
    }
   ],
   "source": [
    "\"rinkal\""
   ]
  },
  {
   "cell_type": "code",
   "execution_count": null,
   "id": "59a75bec",
   "metadata": {},
   "outputs": [],
   "source": []
  }
 ],
 "metadata": {
  "kernelspec": {
   "display_name": "Python 3 (ipykernel)",
   "language": "python",
   "name": "python3"
  },
  "language_info": {
   "codemirror_mode": {
    "name": "ipython",
    "version": 3
   },
   "file_extension": ".py",
   "mimetype": "text/x-python",
   "name": "python",
   "nbconvert_exporter": "python",
   "pygments_lexer": "ipython3",
   "version": "3.9.7"
  }
 },
 "nbformat": 4,
 "nbformat_minor": 5
}
